{
 "cells": [
  {
   "cell_type": "code",
   "execution_count": null,
   "id": "16f6506f",
   "metadata": {},
   "outputs": [],
   "source": []
  },
  {
   "cell_type": "code",
   "execution_count": 2,
   "id": "1f68443b",
   "metadata": {},
   "outputs": [],
   "source": [
    "def jaccard_similarity(set1, set2):\n",
    "    intersection = len(set1.intersection(set2))\n",
    "    union = len(set1.union(set2))\n",
    "    similarity = intersection / union\n",
    "    return similarity\n",
    "\n",
    "# Tokenize the text into sets of words\n"
   ]
  },
  {
   "cell_type": "code",
   "execution_count": 16,
   "id": "51ef87c7",
   "metadata": {},
   "outputs": [],
   "source": [
    "labe1=\"\"\"\n",
    "The appellant along with \"J\" & '.T\" was charged for offences u/s 120B/109/ 302 I.P.C. as well as 302/34 I.P.C. The trial which proceeded in the absence of absconding \"T\", resulted in the conviction and both the accused were sentenced to death sentence.\n",
    "On a reference and appeals by the accused the High Court acquitted \"J\" rejecting four out of five eye witnesses and disbelieving even the only other eye witness who lodged the First Information Report.\n",
    "The High Court however maintained the conviction and confirmed the death sentence on the appellant relying on the testimony of the very same single witness.\n",
    "on appeal by special leave, the Court ^ HELD: (i) Ordinarily in an appeal under article 136 of the Constitution the Court would hesitate to go into the facts to reappreciate the evidence.\n",
    "It is, however.\n",
    "not possible to adopt that course, where the testimony of the sole witness has been rejected with reference to the second accused was on the same boat with the appellant.\n",
    "When the accused is going to lose his life in such a serious charge u/s 302 I.P.C. it is only necessary that the Court should be circumspect and closely scrutinise the evidence to come to an unhesitating conclusion that the sole single witness is absolutely reliable.\n",
    "[710G, H, 711H, 712A] (ii) In the instant case, the High Court was not correct in appreciating the ocular testimony of a sole witness, because (a) the very fact that the eye witness could be persuaded to substitute PWs.\n",
    "1, 2. and 3 for his deceased brother as chasing the assailants, contrary to the version of the F.I.R. degrades him from the status of an absolutely reliable witness, not having a qualm of conscience, but an obliging and untrustworthy witness.\n",
    "[710H] (b) 'The version in the F.I.R. stands contradicted by the testimony in court on a very material point and does not corroborate.\n",
    "[712 B] (c ) Placing such reliance.\n",
    "therefore.\n",
    "as is requisite on the testimony of the uncorroborated solitary witness for convicting the accused facing a murder charge is not possible in the case. [712 B]\n",
    "\n",
    "\"\"\""
   ]
  },
  {
   "cell_type": "code",
   "execution_count": 17,
   "id": "0f99368d",
   "metadata": {},
   "outputs": [],
   "source": [
    "label2=\"\"\"\n",
    "P.M. I woke up on hearing a noise to the effect 'younger brother, Karunakaran is running after stabbing me with knife, 'catch him '.\n",
    "The High Court acquitted accused Jabamani Nadar alias Kanyakumari Comrade alias Ramu and accepted the reference in respect of the present accused.\n",
    "N: Criminal Appeal No. 425 1974.\n",
    "It is also conceivable that those persons, who arrived at the place of occurrence a little earlier than PW 4, did not see the assailants who might have already escaped.\n",
    "The High Court is not even right that PW 4 stands wholly corroborated by the contents of the FIR.\n",
    "The appeal is allowed and the accused shall be released from detention forthwith.\n",
    "Assuming that his earlier version in the first information report is true that the deceased chased the accused .\n",
    "I too came running\".\n",
    "The two accused were charged under section 120B read with sections 302 and 109 IPC as well as under section 302/34 IPC.\n",
    "On April 26, 1971, at about 10.00 P.M. he was sleeping on a bench outside his cattle shed in the open space, which is shown in the site plan (exhibit P15) at No. 9.\n",
    "This may not, in a given case, be considered as a very serious infirmity since the witness may not have seen the other.\n",
    "as the latter was running away after the assault we would have expected some evidence of a trail of blood stains from the place where he was sleeping to the place where he fell dead.\n",
    "The conviction and sentence of death are, therefore, set aside.\n",
    "The electric lights were burning in the vicinity He also saw two persons running ahead of accused Karunakaran.\n",
    "In the first information report which PW 4 lodged at the Thana, which is very close to the place of occurrence, within about 15 minutes of the occurrence, inter alia, stated thus: 4 L159SCI/76 710 At about 11.15.\n",
    "\n",
    "\"\"\""
   ]
  },
  {
   "cell_type": "code",
   "execution_count": 18,
   "id": "4136eabb",
   "metadata": {},
   "outputs": [
    {
     "name": "stdout",
     "output_type": "stream",
     "text": [
      "Jaccard Similarity: 0.09620253164556962\n"
     ]
    }
   ],
   "source": [
    "label1_words = set(label1.split())\n",
    "label2_words = set(label2.split())\n",
    "\n",
    "# Calculate Jaccard similarity\n",
    "similarity = jaccard_similarity(label1_words, label2_words)\n",
    "\n",
    "print(f\"Jaccard Similarity: {similarity}\")"
   ]
  },
  {
   "cell_type": "code",
   "execution_count": null,
   "id": "40f01e2b",
   "metadata": {},
   "outputs": [],
   "source": []
  }
 ],
 "metadata": {
  "kernelspec": {
   "display_name": "Python 3 (ipykernel)",
   "language": "python",
   "name": "python3"
  },
  "language_info": {
   "codemirror_mode": {
    "name": "ipython",
    "version": 3
   },
   "file_extension": ".py",
   "mimetype": "text/x-python",
   "name": "python",
   "nbconvert_exporter": "python",
   "pygments_lexer": "ipython3",
   "version": "3.10.9"
  }
 },
 "nbformat": 4,
 "nbformat_minor": 5
}
