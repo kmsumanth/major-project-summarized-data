{
 "cells": [
  {
   "cell_type": "code",
   "execution_count": 82,
   "id": "22fa823e",
   "metadata": {},
   "outputs": [],
   "source": [
    "input_prompt = \"\"\"\n",
    "\n",
    "\"\"\""
   ]
  },
  {
   "cell_type": "code",
   "execution_count": 83,
   "id": "c492156e",
   "metadata": {},
   "outputs": [
    {
     "name": "stdout",
     "output_type": "stream",
     "text": [
      "Number of words excluding punctuation and numbers: 298\n"
     ]
    }
   ],
   "source": [
    "import re\n",
    "\n",
    "# Remove punctuation and numbers, then split into words\n",
    "words = re.findall(r'\\b(?:[a-zA-Z]+\\b)', input_prompt)\n",
    "\n",
    "# Count the number of words\n",
    "word_count = len(words)\n",
    "\n",
    "# Display the result\n",
    "print(\"Number of words excluding punctuation and numbers:\", word_count)"
   ]
  },
  {
   "cell_type": "code",
   "execution_count": null,
   "id": "3c2f344c",
   "metadata": {},
   "outputs": [],
   "source": []
  }
 ],
 "metadata": {
  "kernelspec": {
   "display_name": "Python 3 (ipykernel)",
   "language": "python",
   "name": "python3"
  },
  "language_info": {
   "codemirror_mode": {
    "name": "ipython",
    "version": 3
   },
   "file_extension": ".py",
   "mimetype": "text/x-python",
   "name": "python",
   "nbconvert_exporter": "python",
   "pygments_lexer": "ipython3",
   "version": "3.10.9"
  }
 },
 "nbformat": 4,
 "nbformat_minor": 5
}
